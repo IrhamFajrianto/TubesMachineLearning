{
  "nbformat": 4,
  "nbformat_minor": 0,
  "metadata": {
    "colab": {
      "provenance": []
    },
    "kernelspec": {
      "name": "python3",
      "display_name": "Python 3"
    },
    "language_info": {
      "name": "python"
    }
  },
  "cells": [
    {
      "cell_type": "code",
      "execution_count": 2,
      "metadata": {
        "id": "l3__YiMsIoEW",
        "colab": {
          "base_uri": "https://localhost:8080/"
        },
        "outputId": "2697f7e2-0325-4995-a84b-620d2cfb443b"
      },
      "outputs": [
        {
          "output_type": "stream",
          "name": "stdout",
          "text": [
            "  model  year  price transmission  mileage fuelType  tax   mpg  engineSize\n",
            "0    A1  2017  12500       Manual    15735   Petrol  150  55.4         1.4\n",
            "1    A6  2016  16500    Automatic    36203   Diesel   20  64.2         2.0\n",
            "2    A1  2016  11000       Manual    29946   Petrol   30  55.4         1.4\n",
            "3    A4  2017  16800    Automatic    25952   Diesel  145  67.3         2.0\n",
            "4    A3  2019  17300       Manual     1998   Petrol  145  49.6         1.0\n",
            "Mean Absolute Error (MAE): 1526.6150547910124\n",
            "Mean Squared Error (MSE): 5267830.28019731\n",
            "R² Score: 0.9651435999245749\n",
            "Sample Prediksi Harga Mobil:\n",
            "[ 9139.78   20698.09   30069.0975 26196.64   15915.05  ]\n"
          ]
        }
      ],
      "source": [
        "# Import library\n",
        "import pandas as pd\n",
        "from sklearn.model_selection import train_test_split\n",
        "from sklearn.ensemble import RandomForestRegressor\n",
        "from sklearn.metrics import mean_absolute_error, mean_squared_error, r2_score\n",
        "\n",
        "# Load dataset\n",
        "data = pd.read_csv('/content/audi.csv')  # Ganti dengan path dataset Anda\n",
        "\n",
        "# Tampilkan lima data teratasuntuk memastikan dataset terbaca\n",
        "print(data.head())\n",
        "\n",
        "# Data preprocessing\n",
        "# Tambahkan kolom 'age' untuk mengganti 'year'\n",
        "data['age'] = 2024 - data['year']  # Misalnya tahun sekarang 2024\n",
        "data.drop(columns=['year'], inplace=True)  # Hapus kolom 'year' karena sudah diolah\n",
        "\n",
        "# Konversi fitur kategorikal ke numerik menggunakan One-Hot Encoding before handling missing values\n",
        "data = pd.get_dummies(data, columns=['model', 'transmission', 'fuelType'], drop_first=True)\n",
        "\n",
        "# Tangani missing values (jika ada) after oencone-hot ding\n",
        "data.fillna(data.median(), inplace=True) # Now that all columns are numeric, median can be calculated\n",
        "\n",
        "# Split data menjadi fitur (X) dan target (y)\n",
        "X = data.drop(columns=['price'])  # Semua kolom kecuali harga\n",
        "y = data['price']  # Target prediksi\n",
        "\n",
        "# Split dataset menjadi train set dan test set (80:20)\n",
        "X_train, X_test, y_train, y_test = train_test_split(X, y, test_size=0.2, random_state=42)\n",
        "\n",
        "# Inisialisasi dan training model Random Forest Regressor\n",
        "model = RandomForestRegressor(n_estimators=100, random_state=42)\n",
        "model.fit(X_train, y_train)\n",
        "\n",
        "# Prediksi pada data test\n",
        "y_pred = model.predict(X_test)\n",
        "\n",
        "# Evaluasi model\n",
        "mae = mean_absolute_error(y_test, y_pred)\n",
        "mse = mean_squared_error(y_test, y_pred)\n",
        "r2 = r2_score(y_test, y_pred)\n",
        "\n",
        "print(\"Mean Absolute Error (MAE):\", mae)\n",
        "print(\"Mean Squared Error (MSE):\", mse)\n",
        "print(\"R² Score:\", r2)\n",
        "\n",
        "# Contoh prediksi\n",
        "sample_data = X_test.iloc[0:5]  # Ambil 5 data dari test set\n",
        "sample_prediction = model.predict(sample_data)\n",
        "print(\"Sample Prediksi Harga Mobil:\")\n",
        "print(sample_prediction)"
      ]
    },
    {
      "cell_type": "code",
      "source": [
        "import kagglehub\n",
        "\n",
        "# Download latest version\n",
        "path = kagglehub.dataset_download(\"adityadesai13/used-car-dataset-ford-and-mercedes\")\n",
        "\n",
        "print(\"Path to dataset files:\", path)"
      ],
      "metadata": {
        "colab": {
          "base_uri": "https://localhost:8080/"
        },
        "id": "L2XceBzMeP-Q",
        "outputId": "e83b52e5-52f5-40b7-eaa7-a8ffbbbdfa49"
      },
      "execution_count": null,
      "outputs": [
        {
          "output_type": "stream",
          "name": "stdout",
          "text": [
            "Warning: Looks like you're using an outdated `kagglehub` version, please consider updating (latest version: 0.3.5)\n",
            "Downloading from https://www.kaggle.com/api/v1/datasets/download/adityadesai13/used-car-dataset-ford-and-mercedes?dataset_version_number=3...\n"
          ]
        },
        {
          "output_type": "stream",
          "name": "stderr",
          "text": [
            "100%|██████████| 1.10M/1.10M [00:00<00:00, 53.1MB/s]"
          ]
        },
        {
          "output_type": "stream",
          "name": "stdout",
          "text": [
            "Extracting files...\n",
            "Path to dataset files: /root/.cache/kagglehub/datasets/adityadesai13/used-car-dataset-ford-and-mercedes/versions/3\n"
          ]
        },
        {
          "output_type": "stream",
          "name": "stderr",
          "text": [
            "\n"
          ]
        }
      ]
    }
  ]
}